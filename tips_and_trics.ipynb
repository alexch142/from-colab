{
  "nbformat": 4,
  "nbformat_minor": 0,
  "metadata": {
    "colab": {
      "name": "tips_and_trics.ipynb",
      "provenance": [],
      "collapsed_sections": [],
      "include_colab_link": true
    },
    "kernelspec": {
      "name": "python3",
      "display_name": "Python 3"
    }
  },
  "cells": [
    {
      "cell_type": "markdown",
      "metadata": {
        "id": "view-in-github",
        "colab_type": "text"
      },
      "source": [
        "<a href=\"https://colab.research.google.com/github/alexch142/from-colab/blob/main/tips_and_trics.ipynb\" target=\"_parent\"><img src=\"https://colab.research.google.com/assets/colab-badge.svg\" alt=\"Open In Colab\"/></a>"
      ]
    },
    {
      "cell_type": "code",
      "metadata": {
        "id": "G1NGsMhYhJ-Q"
      },
      "source": [
        "#создание каталогов\n",
        "def create_directory(dir_name):\n",
        "    if os.path.exists(dir_name):\n",
        "        shutil.rmtree(dir_name)\n",
        "    os.makedirs(dir_name)\n",
        "    os.makedirs(os.path.join(dir_name, \"cats\"))\n",
        "    os.makedirs(os.path.join(dir_name, \"dogs\"))\n"
      ],
      "execution_count": null,
      "outputs": []
    },
    {
      "cell_type": "code",
      "metadata": {
        "id": "lpkkxGJdvtEv"
      },
      "source": [
        "# подключение GOOGLE DRIVE\r\n",
        "from google.colab import drive\r\n",
        "drive.mount('/content/drive')\r\n",
        "# просмотр содержимого папки на диске\r\n",
        "! ls /content/drive/My\\ Drive/datasets/data_happy\r\n",
        "# полный адрес подключенного\r\n",
        "filename = '/content/drive/My Drive/datasets/data_happy/train_happy.h5'"
      ],
      "execution_count": null,
      "outputs": []
    },
    {
      "cell_type": "code",
      "metadata": {
        "id": "bxb8a7kzAygN"
      },
      "source": [
        "#копирование картинок\n",
        "def copy_images(start_index, end_index, source_dir_0,source_dir_1, dest_dir):\n",
        "    for i in range(start_index, end_index):\n",
        "       \n",
        "        shutil.copy2(os.path.join(source_dir_0, \"cat.\" + str(i) + \".jpg\"), \n",
        "                   os.path.join(dest_dir, \"cats\"))\n",
        "        shutil.copy2(os.path.join(source_dir_1, \"dog.\" + str(i) + \".jpg\"), \n",
        "                   os.path.join(dest_dir, \"dogs\"))"
      ],
      "execution_count": null,
      "outputs": []
    },
    {
      "cell_type": "code",
      "metadata": {
        "id": "rUCBP6TO3hJo"
      },
      "source": [
        "#Добавление плохоразпознаных картинок в обучающую выборку для повторного обучения"
      ],
      "execution_count": null,
      "outputs": []
    },
    {
      "cell_type": "markdown",
      "metadata": {
        "id": "nIlgYNyuhN96"
      },
      "source": [
        "выбираем данные в которых сеть не уверена (0.88<) но вместо удаления добавляем их в обучающий набор - как бы увличивая их вес"
      ]
    },
    {
      "cell_type": "code",
      "metadata": {
        "id": "COT9q9JAhQWP"
      },
      "source": [
        "def select_x(x_aug,y_aug):\n",
        "    predictions = model.predict(x_aug)\n",
        "    err_count = 0\n",
        "    indexes = np.argmax(prediction,axis=1)\n",
        "    answers = np.argmax(y_aug,axis=1)\n",
        "    nums = [0,0,0,0,0,0,0,0,0,0]\n",
        "    err_count = 0\n",
        "    for x in range(0,x_aug.shape[0]):\n",
        "        if (predictions[x,indexes[x]]<0.88) or (indexes[x]!=answers[x]):\n",
        "            err_count +=1\n",
        "            nums[answers[x]] +=1\n",
        "    print(\"deleted : \", err_count)\n",
        "    \n",
        "    ind= 0\n",
        "    x_sel = np.empty([x_aug.shape[0]+err_count,32,32,3])\n",
        "    y_sel = np.empty([y_aug.shape[0]+err_count,10])\n",
        "    for x in range(0,x_aug.shape[0]):\n",
        "        if (predictions[x,indexes[x]]<0.88)or(indexes[x]!=answers[x]):\n",
        "            x_sel[ind]=x_aug[x]\n",
        "            y_sel[ing]=y_aug[x]\n",
        "            ind+=1\n",
        "    for x in range(0,x_aug.shape[0]):\n",
        "        x_sel[ind] = x_aug[x]\n",
        "        y_sel[ind] = y_aug[x]\n",
        "        ind+=1\n",
        "    gc.collect() #освобождение памяти.не факт что надо\n",
        "    print(nums)\n",
        "    return(x_sel,y_sel)\n",
        "\n",
        "#вызываем так: (X_new,Y_new)=select(x_data,y_data)\n"
      ],
      "execution_count": null,
      "outputs": []
    },
    {
      "cell_type": "code",
      "metadata": {
        "id": "7T3SymE73ilP"
      },
      "source": [
        "#Генератор для подачи картинок в fit с диска без предварительной загрузки в память"
      ],
      "execution_count": null,
      "outputs": []
    },
    {
      "cell_type": "code",
      "metadata": {
        "id": "ae-OcN1n3i3e"
      },
      "source": [
        "from segmentation_models import Unet\n",
        "import itertools\n",
        "import scipy\n",
        "import numpy as np\n",
        "import keras.utils\n",
        "# прочитать пути к файлам можно с помощью glob как в описании\n",
        "images_paths = ... # массив строк-путей картинок\n",
        "segmentations_paths = ... # массив строк-путей разметки\n",
        "#перемешивание базы как в описании\n",
        "..."
      ],
      "execution_count": null,
      "outputs": []
    },
    {
      "cell_type": "code",
      "metadata": {
        "id": "WdlSCmsF3kgY"
      },
      "source": [
        "# Для того, чтобы бесконечно брать из последовательности с помощью next:\n",
        "c = itertools.cycle(zip(images_paths, segmentations_paths))\n",
        "batch_size = 6\n",
        "classes_count = 12\n",
        "def generator():\n",
        "    while True:\n",
        "        segmentation_for_batch = []\n",
        "        images_for_batch = []\n",
        "        for i in range(batch_size):\n",
        "            image_path, segmentation_path = next(c)\n",
        "\n",
        "            # считываем картинку\n",
        "            image = scipy.misc.imread(image_path)\n",
        "\n",
        "            #препроцессинг, можно просто перевод во float\n",
        "            ...\n",
        "\n",
        "            segmentation = scipy.misc.imread(segmentation_path)\n",
        "\n",
        "            # ресайзинг image и segmentation в 352, 480\n",
        "            ...\n",
        "\n",
        "            # первод из индексов классов segmentation в one-hot вектора segmentation_one_hot\n",
        "            # для меньшего количества классов - 7:\n",
        "            # for no_class in range(6,12):\n",
        "            #     segmentation[segmentation==no_class] = 6\n",
        "            segmentation_one_hot = keras.utils.to_categorical(segmentation, classes_count, dtype=int)\n",
        "\n",
        "            images_for_batch.append(image)\n",
        "            segmentation_for_batch.append(segmentation_one_hot)\n",
        "            images_for_batch = np.asarray(images_for_batch)\n",
        "            segmentation_for_batch = np.asarray(segmentation_for_batch)\n",
        "        yield images_for_batch, segmentation_for_batch\n"
      ],
      "execution_count": null,
      "outputs": []
    },
    {
      "cell_type": "code",
      "metadata": {
        "id": "9QtmwGT-3kkF"
      },
      "source": [
        ""
      ],
      "execution_count": null,
      "outputs": []
    },
    {
      "cell_type": "code",
      "metadata": {
        "id": "EwBLTQKf3kpF"
      },
      "source": [
        "model = Unet('resnet34', input_shape=(352,480, 3), intencoder_weights='imagenet', classes=classes_count, activation='softmax')\n",
        "model.compile('Adam', loss='categorical_crossentropy', metrics=['categorical_accuracy'])\n",
        "#для сохранения весов каждые 10 эпох. обучаемся пока не остановим\n",
        "while True:\n",
        "    model.fit_generator(generator(), steps_per_epoch=256, epochs=10)\n",
        "    model.save_weights(...)"
      ],
      "execution_count": null,
      "outputs": []
    },
    {
      "cell_type": "code",
      "metadata": {
        "id": "KyOqd1gz9j0T"
      },
      "source": [
        "preprocess_input = get_preprocessing(BACKBONE) # функция segmentation_models\n",
        "BACKBONE = 'resnet34'"
      ],
      "execution_count": null,
      "outputs": []
    },
    {
      "cell_type": "code",
      "metadata": {
        "id": "f2_wA4qy9kgD"
      },
      "source": [
        "#генератор для выбора картинок из файла\n",
        "def base_datagen(images_size,batch_size,im_path,lbl_path,s):\n",
        "  \n",
        "  image_list = glob(im_path)\n",
        "  label_list = glob(lbl_path)\n",
        "  size = len(image_list)//s\n",
        "  image_list = image_list[size:]\n",
        "  label_list = label_list[size:]\n",
        "  indx = np.arange(len(image_list))\n",
        "  np.random.shuffle(indx)\n",
        "  image_list = np.asarray(image_list)[indx]\n",
        "  label_list = np.asarray(label_list)[indx]\n",
        "  while True :\n",
        "    batch_x = []\n",
        "    batch_y = []\n",
        "    t = cycle(zip(image_list,label_list))\n",
        "    for i in range(batch_size):\n",
        "      im,lab = next(t)\n",
        "      img = image.load_img(im,target_size = images_size)\n",
        "      img = image.img_to_array(img)\n",
        "      img = np.expand_dims(img,axis = 0)\n",
        "      img = preprocess_input(img)\n",
        "      batch_x.append(img)\n",
        "      \n",
        "      \n",
        "      tar = image.load_img(lab,target_size = images_size)\n",
        "      tar = image.img_to_array(tar)\n",
        "      tar = np.expand_dims(tar,axis = 0)\n",
        "      tar = tar[:,:,:,0]\n",
        "      #tar[tar>6]=0\n",
        "      tar = utils.to_categorical(tar,12)#7\n",
        "     # tar = preprocess_input(tar)\n",
        "      batch_y.append(tar)\n",
        "    x = np.vstack(batch_x)\n",
        "    y = np.vstack(batch_y)\n",
        "    \n",
        "    yield x,y"
      ],
      "execution_count": null,
      "outputs": []
    },
    {
      "cell_type": "code",
      "metadata": {
        "id": "CZn5nHHyHgQN"
      },
      "source": [
        "#генератор для валидационной части\n",
        "def val_gen(images_size,batch_size,im_path,lbl_path,s):\n",
        "  image_list = glob(im_path)\n",
        "  label_list = glob(lbl_path)\n",
        "  size = len(image_list)//s\n",
        "  image_list = image_list[0:size]\n",
        "  label_list = label_list[0:size]\n",
        "  indx = np.arange(len(image_list))\n",
        "  #np.random.shuffle(indx)\n",
        "  image_list = np.asarray(image_list)[indx]\n",
        "  label_list = np.asarray(label_list)[indx]\n",
        "  while True :\n",
        "    batch_x_val = []\n",
        "    batch_y_val = []\n",
        "    t = cycle(zip(image_list,label_list))\n",
        "    for i in range(batch_size):\n",
        "      im_val,lab_val = next(t)\n",
        "      img_val = image.load_img(im_val,target_size = images_size)\n",
        "      img_val = image.img_to_array(img_val)\n",
        "      img_val = np.expand_dims(img_val,axis = 0)\n",
        "     # img_val = preprocess_input(img_val)\n",
        "      batch_x_val.append(img_val)\n",
        "      \n",
        "      \n",
        "      tar_val = image.load_img(lab_val,target_size = images_size)\n",
        "      tar_val = image.img_to_array(tar_val)\n",
        "      tar_val = np.expand_dims(tar_val,axis = 0)\n",
        "      tar_val = tar_val[:,:,:,0]\n",
        "      #tar_val[tar_val>6]=0\n",
        "      tar_val = utils.to_categorical(tar_val,12+1)#7\n",
        "     # tar = preprocess_input(tar)\n",
        "      batch_y_val.append(tar_val)\n",
        "    x_val = np.vstack(batch_x_val)\n",
        "    y_val = np.vstack(batch_y_val)\n",
        "    \n",
        "    yield x_val,y_val"
      ],
      "execution_count": null,
      "outputs": []
    },
    {
      "cell_type": "code",
      "metadata": {
        "id": "KELmmayrHgTj"
      },
      "source": [
        "#генератор для подачи тестовой выборки из файла\n",
        "def test_gen(test_im_path,batch_size2,images_size):\n",
        "  image_list = glob.glob(test_im_path) \n",
        "  indx = np.arange(len(image_list))\n",
        "  image_list = np.asarray(image_list)[indx]\n",
        "  while True :\n",
        "    batch_x = []\n",
        "    t = cycle(image_list)\n",
        "    for i in range(batch_size):\n",
        "      im = next(t)\n",
        "      img = image.load_img(im,target_size = images_size)\n",
        "      img = image.img_to_array(img)\n",
        "      img = np.expand_dims(img,axis = 0)\n",
        "      img = preprocess_input(img)\n",
        "      batch_x.append(img)\n",
        "    x = np.vstack(batch_x)\n",
        "    yield x\n",
        "    "
      ],
      "execution_count": null,
      "outputs": []
    },
    {
      "cell_type": "code",
      "metadata": {
        "id": "SMeInRALHgXU"
      },
      "source": [
        "##### подача аугментированых картинок и их масок из файлов\n",
        "#вспомогательная функция для кодирования аугментированных картинок в классы как у исходной картинки\n",
        "def aug_coder(y_):\n",
        "  dim = y_.shape\n",
        "  y_new = np.zeros(y_.shape[:2], dtype=np.int32)\n",
        "  for i, j in product(range(dim[0]), range(dim[1])):\n",
        "     y_new[i][j] = y_[i][j][0]\n",
        "  return y_new"
      ],
      "execution_count": null,
      "outputs": []
    },
    {
      "cell_type": "code",
      "metadata": {
        "id": "rUGlJQI7JWeK"
      },
      "source": [
        "#определяем как будем изменять картинки\n",
        "seq = iaa.Sequential([\n",
        "    iaa.Crop(px=(0, 16)), # crop images from each side by 0 to 16px (randomly chosen)\n",
        "    iaa.Fliplr(0.5),      # horizontally flip 50% of the images\n",
        "    iaa.GaussianBlur(sigma=(0, 3.0)) # blur images with a sigma of 0 to 3.0\n",
        "])"
      ],
      "execution_count": null,
      "outputs": []
    },
    {
      "cell_type": "code",
      "metadata": {
        "id": "YYfFHuu0Jdd_"
      },
      "source": [
        "# функция аугментации(получаем батч аугментированных картинок и их меток классов на каждую поданную пару)\n",
        "def aug_batch(x_t, y_t, batch,classes):\n",
        "  img_arr = []\n",
        "  segmap_arr = []\n",
        "  for i in range(batch):\n",
        "    im  = x_t[0]\n",
        "    segmap = aug_coder(y_t[0])\n",
        "    segmap = ia.SegmentationMapOnImage(segmap, shape=im.shape, nb_classes=classes+1)#доп класс фон\n",
        "    seq_det = seq.to_deterministic()\n",
        "    img_aug = seq_det.augment_image(im)\n",
        "    img_aug = np.expand_dims(img_aug,axis = 0)\n",
        "    \n",
        "    seg_aug = seq_det.augment_segmentation_maps([segmap])[0]\n",
        " #   segmap_aug = seg_aug.draw(size=img_aug.shape[:2]) # переводит размеченную  картинку в вид для изображения\n",
        "    \n",
        "    seg_map = seg_aug.get_arr_int()\n",
        "    seg_map = utils.to_categorical(seg_map[:,:],classes+1)\n",
        "    seg_map = np.expand_dims(seg_map,axis = 0)\n",
        "   \n",
        "        \n",
        "  # show_all(x_t[i], img_aug,color_encode(y_t[i], colors), segmap_aug)\n",
        "   #cv2_imshow(img_aug)\n",
        "   #cv2_imshow(segmap_aug)\n",
        "    img_arr.append(img_aug)\n",
        "    segmap_arr.append(seg_map)\n",
        "  return img_arr, segmap_arr"
      ],
      "execution_count": null,
      "outputs": []
    },
    {
      "cell_type": "code",
      "metadata": {
        "id": "IDzMqJ5kJdl1"
      },
      "source": [
        "#собственно сам генератора аугментированных картинок\n",
        "def aug_im_gen(images_size,batch_size,im_path,lbl_path,s):\n",
        "  \n",
        "  image_list =[]\n",
        "  label_list =[]  \n",
        "  image_list = glob(im_path)\n",
        "  label_list = glob(lbl_path)\n",
        "  size = len(image_list)//s\n",
        "  image_list = image_list[size:]\n",
        "  label_list = label_list[size:]\n",
        "  indx = np.arange(len(image_list))\n",
        "  np.random.shuffle(indx)\n",
        "  image_list = np.asarray(image_list)[indx]\n",
        "  label_list = np.asarray(label_list)[indx]\n",
        "  while True :\n",
        "    x_b = []\n",
        "    y_b = []\n",
        "    t = cycle(zip(image_list,label_list))\n",
        "    \n",
        "    im,lab = next(t)\n",
        "    img = image.load_img(im,target_size = images_size)\n",
        "    img = image.img_to_array(img)\n",
        "    img = np.expand_dims(img,axis = 0)\n",
        "   # img = preprocess_input(img)\n",
        "    x_b = img\n",
        "        \n",
        "    tar = image.load_img(lab,target_size = images_size)\n",
        "    tar = image.img_to_array(tar)\n",
        "    tar = np.expand_dims(tar,axis = 0)  \n",
        "    y_b = tar\n",
        "    \n",
        "    batch_x = []\n",
        "    batch_y = [] \n",
        "    batch_x,batch_y = aug_batch(x_b, y_b, batch_size,12)\n",
        "   \n",
        "    x = np.vstack(batch_x)\n",
        "    y = np.vstack(batch_y)\n",
        "    \n",
        "    yield x,y"
      ],
      "execution_count": null,
      "outputs": []
    },
    {
      "cell_type": "code",
      "metadata": {
        "id": "g5PCvTI2JMdE"
      },
      "source": [
        "palette = {0:(30,50,70),1:(0,140,55),2:(70,222,70),3:(33,55,150),4:(220,127,45),5:(100,40,80),6:(100,0,0)}"
      ],
      "execution_count": null,
      "outputs": []
    },
    {
      "cell_type": "code",
      "metadata": {
        "id": "w9diKwxqJMn1"
      },
      "source": [
        "#Демонстрация размеченного изображения в цвете\n",
        "def colored_picture(img_path,palette):\n",
        "  ar = image.load_image(img_path,target_size = (352,480))\n",
        "  ar = image.img_to_array(ar)\n",
        "  ar = ar[:,:,0]\n",
        "  R = np.zeros(ar.shape)\n",
        "  G = np.zeros(ar.shape)\n",
        "  B = np.zeros(ar.shape)\n",
        "  for cat in palette:\n",
        "    R[arr==cat]=palette[cat][0]\n",
        "    G[arr==cat]=palette[cat][1]\n",
        "    B[arr==cat]=palette[cat][2]\n",
        "  img = np.zeros(ar.shape)\n",
        "  img = np.expand_dims(img, axis = 3)\n",
        "  img = np.dstack((R,G,B))\n",
        "  img = image.array_to_img(img)\n",
        "  #plt.imshow(img)\n",
        "  return img"
      ],
      "execution_count": null,
      "outputs": []
    },
    {
      "cell_type": "code",
      "metadata": {
        "id": "0IX7BXXVOZkT"
      },
      "source": [
        "#Преобразование тензора на выходе сети в раскрашенную картинку\n",
        "def colored_encode(x,palette):\n",
        "  R = np.zeros(x[0].shape)\n",
        "  G = np.zeros(x[0].shape)\n",
        "  B = np.zeros(x[0].shape)\n",
        "  for cat in palette:\n",
        "    R[x[0]==cat] = palette[cat][0]\n",
        "    G[x[0]==cat] = palette[cat][1]\n",
        "    B[x[0]==cat] = palette[cat][2]\n",
        "  img = np.zeros(x.shape)\n",
        "  img = np.expand_dims(img, axis = 3)\n",
        "  img = np.dstack((R,G,B))\n",
        "  img = image.array_to_img(img)\n",
        "  #plt.imshow(img)\n",
        "  return img  "
      ],
      "execution_count": null,
      "outputs": []
    }
  ]
}